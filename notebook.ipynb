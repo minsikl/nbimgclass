{
 "cells": [
  {
   "cell_type": "code",
   "execution_count": 1,
   "metadata": {},
   "outputs": [
    {
     "name": "stderr",
     "output_type": "stream",
     "text": [
      "Using TensorFlow backend.\n"
     ]
    }
   ],
   "source": [
    "import numpy as np # linear algebra\n",
    "import pandas as pd # data processing, CSV file I/O (e.g. pd.read_csv)\n",
    "import matplotlib.pyplot as plt # visualize satellite images\n",
    "from skimage.io import imshow # visualize satellite images\n",
    "\n",
    "from keras.layers import Dense, Conv2D, MaxPooling2D, Flatten, Dropout # components of network\n",
    "from keras.models import Sequential # type of model"
   ]
  },
  {
   "cell_type": "code",
   "execution_count": 2,
   "metadata": {},
   "outputs": [
    {
     "name": "stdout",
     "output_type": "stream",
     "text": [
      "Loading Training Data\n",
      "Loaded 28 X 28 X 4 images\n",
      "Loaded labels\n"
     ]
    }
   ],
   "source": [
    "x_train_set_fpath = '../input/X_test_sat4.csv'\n",
    "y_train_set_fpath = '../input/y_test_sat4.csv'\n",
    "print ('Loading Training Data')\n",
    "X_train = pd.read_csv(x_train_set_fpath)\n",
    "print ('Loaded 28 X 28 X 4 images')\n",
    "Y_train = pd.read_csv(y_train_set_fpath)\n",
    "print ('Loaded labels')"
   ]
  },
  {
   "cell_type": "code",
   "execution_count": 8,
   "metadata": {},
   "outputs": [
    {
     "name": "stdout",
     "output_type": "stream",
     "text": [
      "We have 99999 examples and each example is a list of 3136 numbers with 4 possible classifications.\n"
     ]
    }
   ],
   "source": [
    "X_train = X_train.values\n",
    "Y_train = Y_train.values\n",
    "print ('We have',X_train.shape[0],'examples and each example is a list of',X_train.shape[1],'numbers with',Y_train.shape[1],'possible classifications.')"
   ]
  },
  {
   "cell_type": "code",
   "execution_count": 16,
   "metadata": {},
   "outputs": [
    {
     "name": "stdout",
     "output_type": "stream",
     "text": [
      "(99999, 28, 28, 4)\n"
     ]
    }
   ],
   "source": [
    "X_train_img = X_train.reshape([99999,28,28,4]).astype(float)\n",
    "print (X_train_img.shape)"
   ]
  },
  {
   "cell_type": "code",
   "execution_count": 17,
   "metadata": {},
   "outputs": [
    {
     "data": {
      "image/png": "[encoded data removed]",
      "text/plain": [
       "<Figure size 432x288 with 2 Axes>"
      ]
     },
     "metadata": {
      "needs_background": "light"
     },
     "output_type": "display_data"
    },
    {
     "name": "stdout",
     "output_type": "stream",
     "text": [
      "Barren Land\n"
     ]
    }
   ],
   "source": [
    "ix = 5#Type a number between 0 and 99,999 inclusive\n",
    "imshow(np.squeeze(X_train_img[ix,:,:,0:3]).astype(int)) #Only seeing the RGB channels\n",
    "plt.show()\n",
    "#Tells what the image is\n",
    "if Y_train[ix,0] == 1:\n",
    "    print ('Barren Land')\n",
    "elif Y_train[ix,1] == 1:\n",
    "    print ('Trees')\n",
    "elif Y_train[ix,2] == 1:\n",
    "    print ('Grassland')\n",
    "else:\n",
    "    print ('Other')"
   ]
  },
  {
   "cell_type": "code",
   "execution_count": 19,
   "metadata": {},
   "outputs": [],
   "source": [
    "model = Sequential([\n",
    "    Dense(4, input_shape=(3136,), activation='softmax')\n",
    "])"
   ]
  },
  {
   "cell_type": "code",
   "execution_count": 20,
   "metadata": {},
   "outputs": [],
   "source": [
    "X_train = X_train/255"
   ]
  },
  {
   "cell_type": "code",
   "execution_count": 23,
   "metadata": {},
   "outputs": [
    {
     "name": "stdout",
     "output_type": "stream",
     "text": [
      "_________________________________________________________________\n",
      "Layer (type)                 Output Shape              Param #   \n",
      "=================================================================\n",
      "dense_2 (Dense)              (None, 4)                 12548     \n",
      "=================================================================\n",
      "Total params: 12,548\n",
      "Trainable params: 12,548\n",
      "Non-trainable params: 0\n",
      "_________________________________________________________________\n",
      "Train on 98999 samples, validate on 1000 samples\n",
      "Epoch 1/5\n",
      "98999/98999 [==============================] - 23s 231us/step - loss: 0.6427 - acc: 0.7300 - val_loss: 0.7526 - val_acc: 0.6800\n",
      "Epoch 2/5\n",
      "98999/98999 [==============================] - 22s 218us/step - loss: 0.6388 - acc: 0.7314 - val_loss: 0.6612 - val_acc: 0.6970\n",
      "Epoch 3/5\n",
      "98999/98999 [==============================] - 21s 212us/step - loss: 0.6358 - acc: 0.7326 - val_loss: 0.7250 - val_acc: 0.6920\n",
      "Epoch 4/5\n",
      "98999/98999 [==============================] - 21s 212us/step - loss: 0.6345 - acc: 0.7328 - val_loss: 0.6150 - val_acc: 0.7630\n",
      "Epoch 5/5\n",
      "98999/98999 [==============================] - 22s 219us/step - loss: 0.6312 - acc: 0.7349 - val_loss: 0.5888 - val_acc: 0.7450\n"
     ]
    },
    {
     "data": {
      "text/plain": [
       "<keras.callbacks.History at 0x13f835ac8>"
      ]
     },
     "execution_count": 23,
     "metadata": {},
     "output_type": "execute_result"
    }
   ],
   "source": [
    "model.compile(optimizer='adam', loss='categorical_crossentropy', metrics=['accuracy'])\n",
    "model.summary()\n",
    "model.fit(X_train,Y_train,batch_size=32, epochs=5, verbose=1, validation_split=0.01)"
   ]
  },
  {
   "cell_type": "code",
   "execution_count": 24,
   "metadata": {},
   "outputs": [
    {
     "name": "stdout",
     "output_type": "stream",
     "text": [
      "1000/1000 [==============================] - 0s 77us/step\n"
     ]
    }
   ],
   "source": [
    "preds = model.predict(X_train[-1000:], verbose=1)"
   ]
  },
  {
   "cell_type": "code",
   "execution_count": 25,
   "metadata": {},
   "outputs": [
    {
     "data": {
      "image/png": "[encoded data removed]",
      "text/plain": [
       "<Figure size 432x288 with 2 Axes>"
      ]
     },
     "metadata": {
      "needs_background": "light"
     },
     "output_type": "display_data"
    },
    {
     "name": "stdout",
     "output_type": "stream",
     "text": [
      "Prediction:\n",
      "100.0% probability barren land,\n",
      "0.0% probability trees,\n",
      "0.0% probability grassland,\n",
      "0.0% probability other\n",
      "\n",
      "Ground Truth: Barren Land\n"
     ]
    }
   ],
   "source": [
    "ix = 8 #Type a number between 0 and 999 inclusive\n",
    "imshow(np.squeeze(X_train_img[99999-(1000-ix),:,:,0:3]).astype(int)) #Only seeing the RGB channels\n",
    "plt.show()\n",
    "#Tells what the image is\n",
    "print ('Prediction:\\n{:.1f}% probability barren land,\\n{:.1f}% probability trees,\\n{:.1f}% probability grassland,\\n{:.1f}% probability other\\n'.format(preds[ix,0]*100,preds[ix,1]*100,preds[ix,2]*100,preds[ix,3]*100))\n",
    "\n",
    "print ('Ground Truth: ',end='')\n",
    "if Y_train[99999-(1000-ix),0] == 1:\n",
    "    print ('Barren Land')\n",
    "elif Y_train[99999-(1000-ix),1] == 1:\n",
    "    print ('Trees')\n",
    "elif Y_train[99999-(1000-ix),2] == 1:\n",
    "    print ('Grassland')\n",
    "else:\n",
    "    print ('Other')"
   ]
  },
  {
   "cell_type": "code",
   "execution_count": null,
   "metadata": {},
   "outputs": [],
   "source": []
  }
 ],
 "metadata": {
  "kernelspec": {
   "display_name": "Python 3",
   "language": "python",
   "name": "python3"
  },
  "language_info": {
   "codemirror_mode": {
    "name": "ipython",
    "version": 3
   },
   "file_extension": ".py",
   "mimetype": "text/x-python",
   "name": "python",
   "nbconvert_exporter": "python",
   "pygments_lexer": "ipython3",
   "version": "3.6.5"
  }
 },
 "nbformat": 4,
 "nbformat_minor": 2
}
