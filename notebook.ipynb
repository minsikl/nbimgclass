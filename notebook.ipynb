{
 "cells": [
  {
   "cell_type": "code",
   "execution_count": 1,
   "metadata": {},
   "outputs": [
    {
     "name": "stderr",
     "output_type": "stream",
     "text": [
      "Using TensorFlow backend.\n"
     ]
    }
   ],
   "source": [
    "import numpy as np # linear algebra\n",
    "import pandas as pd # data processing, CSV file I/O (e.g. pd.read_csv)\n",
    "import matplotlib.pyplot as plt # visualize satellite images\n",
    "from skimage.io import imshow # visualize satellite images\n",
    "\n",
    "from keras.layers import Dense, Conv2D, MaxPooling2D, Flatten, Dropout # components of network\n",
    "from keras.models import Sequential # type of model"
   ]
  },
  {
   "cell_type": "code",
   "execution_count": 2,
   "metadata": {},
   "outputs": [
    {
     "name": "stdout",
     "output_type": "stream",
     "text": [
      "Loading Training Data\n",
      "Loaded 28 X 28 X 4 images\n",
      "Loaded labels\n"
     ]
    }
   ],
   "source": [
    "x_train_set_fpath = './input/X_test_sat4.csv'\n",
    "y_train_set_fpath = './input/y_test_sat4.csv'\n",
    "print ('Loading Training Data')\n",
    "X_train = pd.read_csv(x_train_set_fpath)\n",
    "print ('Loaded 28 X 28 X 4 images')\n",
    "Y_train = pd.read_csv(y_train_set_fpath)\n",
    "print ('Loaded labels')"
   ]
  },
  {
   "cell_type": "code",
   "execution_count": 4,
   "metadata": {},
   "outputs": [
    {
     "name": "stdout",
     "output_type": "stream",
     "text": [
      "We have 99999 examples and each example is a list of 3136 numbers with 4 possible classifications.\n"
     ]
    },
    {
     "name": "stderr",
     "output_type": "stream",
     "text": [
      "/Users/minsiklee/.nbimgclass/lib/python3.6/site-packages/ipykernel_launcher.py:1: FutureWarning: Method .as_matrix will be removed in a future version. Use .values instead.\n",
      "  \"\"\"Entry point for launching an IPython kernel.\n",
      "/Users/minsiklee/.nbimgclass/lib/python3.6/site-packages/ipykernel_launcher.py:2: FutureWarning: Method .as_matrix will be removed in a future version. Use .values instead.\n",
      "  \n"
     ]
    }
   ],
   "source": [
    "X_train = X_train.as_matrix()\n",
    "Y_train = Y_train.as_matrix()\n",
    "print ('We have',X_train.shape[0],'examples and each example is a list of',X_train.shape[1],'numbers with',Y_train.shape[1],'possible classifications.')"
   ]
  },
  {
   "cell_type": "code",
   "execution_count": 5,
   "metadata": {},
   "outputs": [
    {
     "name": "stdout",
     "output_type": "stream",
     "text": [
      "(99999, 28, 28, 4)\n"
     ]
    }
   ],
   "source": [
    "X_train_img = X_train.reshape([99999,28,28,4]).astype(float)\n",
    "print (X_train_img.shape)"
   ]
  },
  {
   "cell_type": "code",
   "execution_count": 6,
   "metadata": {},
   "outputs": [
    {
     "name": "stderr",
     "output_type": "stream",
     "text": [
      "/Users/minsiklee/.nbimgclass/lib/python3.6/site-packages/skimage/io/_plugins/matplotlib_plugin.py:78: UserWarning: Float image out of standard range; displaying image with stretched contrast.\n",
      "  warn(\"Float image out of standard range; displaying \"\n",
      "WARNING: Logging before flag parsing goes to stderr.\n",
      "W0819 13:53:20.834687 4712633792 image.py:700] Clipping input data to the valid range for imshow with RGB data ([0..1] for floats or [0..255] for integers).\n"
     ]
    },
    {
     "data": {
      "image/png": "[encoded data removed]",
      "text/plain": [
       "<Figure size 432x288 with 2 Axes>"
      ]
     },
     "metadata": {
      "needs_background": "light"
     },
     "output_type": "display_data"
    },
    {
     "name": "stdout",
     "output_type": "stream",
     "text": [
      "Barren Land\n"
     ]
    }
   ],
   "source": [
    "ix = 5#Type a number between 0 and 99,999 inclusive\n",
    "imshow(np.squeeze(X_train_img[ix,:,:,0:3]).astype(float)) #Only seeing the RGB channels\n",
    "plt.show()\n",
    "#Tells what the image is\n",
    "if Y_train[ix,0] == 1:\n",
    "    print ('Barren Land')\n",
    "elif Y_train[ix,1] == 1:\n",
    "    print ('Trees')\n",
    "elif Y_train[ix,2] == 1:\n",
    "    print ('Grassland')\n",
    "else:\n",
    "    print ('Other')"
   ]
  },
  {
   "cell_type": "code",
   "execution_count": 7,
   "metadata": {},
   "outputs": [
    {
     "name": "stderr",
     "output_type": "stream",
     "text": [
      "W0819 13:53:26.743588 4712633792 deprecation_wrapper.py:119] From /Users/minsiklee/.nbimgclass/lib/python3.6/site-packages/keras/backend/tensorflow_backend.py:74: The name tf.get_default_graph is deprecated. Please use tf.compat.v1.get_default_graph instead.\n",
      "\n",
      "W0819 13:53:26.760523 4712633792 deprecation_wrapper.py:119] From /Users/minsiklee/.nbimgclass/lib/python3.6/site-packages/keras/backend/tensorflow_backend.py:517: The name tf.placeholder is deprecated. Please use tf.compat.v1.placeholder instead.\n",
      "\n",
      "W0819 13:53:26.763684 4712633792 deprecation_wrapper.py:119] From /Users/minsiklee/.nbimgclass/lib/python3.6/site-packages/keras/backend/tensorflow_backend.py:4138: The name tf.random_uniform is deprecated. Please use tf.random.uniform instead.\n",
      "\n"
     ]
    }
   ],
   "source": [
    "model = Sequential([\n",
    "    Dense(4, input_shape=(3136,), activation='softmax')\n",
    "])"
   ]
  },
  {
   "cell_type": "code",
   "execution_count": 8,
   "metadata": {},
   "outputs": [],
   "source": [
    "X_train = X_train/255"
   ]
  },
  {
   "cell_type": "code",
   "execution_count": 11,
   "metadata": {},
   "outputs": [
    {
     "name": "stderr",
     "output_type": "stream",
     "text": [
      "W0819 02:07:42.575887 4597757376 deprecation_wrapper.py:119] From /Users/minsiklee/.satellite/lib/python3.7/site-packages/keras/optimizers.py:790: The name tf.train.Optimizer is deprecated. Please use tf.compat.v1.train.Optimizer instead.\n",
      "\n",
      "W0819 02:07:42.623973 4597757376 deprecation_wrapper.py:119] From /Users/minsiklee/.satellite/lib/python3.7/site-packages/keras/backend/tensorflow_backend.py:3295: The name tf.log is deprecated. Please use tf.math.log instead.\n",
      "\n",
      "W0819 02:07:42.739035 4597757376 deprecation.py:323] From /Users/minsiklee/.satellite/lib/python3.7/site-packages/tensorflow/python/ops/math_grad.py:1250: add_dispatch_support.<locals>.wrapper (from tensorflow.python.ops.array_ops) is deprecated and will be removed in a future version.\n",
      "Instructions for updating:\n",
      "Use tf.where in 2.0, which has the same broadcast rule as np.where\n",
      "W0819 02:07:42.777674 4597757376 deprecation_wrapper.py:119] From /Users/minsiklee/.satellite/lib/python3.7/site-packages/keras/backend/tensorflow_backend.py:986: The name tf.assign_add is deprecated. Please use tf.compat.v1.assign_add instead.\n",
      "\n"
     ]
    },
    {
     "name": "stdout",
     "output_type": "stream",
     "text": [
      "_________________________________________________________________\n",
      "Layer (type)                 Output Shape              Param #   \n",
      "=================================================================\n",
      "dense_1 (Dense)              (None, 4)                 12548     \n",
      "=================================================================\n",
      "Total params: 12,548\n",
      "Trainable params: 12,548\n",
      "Non-trainable params: 0\n",
      "_________________________________________________________________\n",
      "Train on 98999 samples, validate on 1000 samples\n",
      "Epoch 1/5\n",
      "98999/98999 [==============================] - 23s 229us/step - loss: 0.7557 - acc: 0.6864 - val_loss: 0.6255 - val_acc: 0.7600\n",
      "Epoch 2/5\n",
      "98999/98999 [==============================] - 21s 210us/step - loss: 0.6731 - acc: 0.7201 - val_loss: 0.6206 - val_acc: 0.7420\n",
      "Epoch 3/5\n",
      "98999/98999 [==============================] - 20s 201us/step - loss: 0.6579 - acc: 0.7247 - val_loss: 0.6258 - val_acc: 0.7250\n",
      "Epoch 4/5\n",
      "98999/98999 [==============================] - 20s 200us/step - loss: 0.6493 - acc: 0.7270 - val_loss: 0.6255 - val_acc: 0.7670\n",
      "Epoch 5/5\n",
      "98999/98999 [==============================] - 19s 191us/step - loss: 0.6480 - acc: 0.7269 - val_loss: 0.6263 - val_acc: 0.7310\n"
     ]
    },
    {
     "data": {
      "text/plain": [
       "<keras.callbacks.History at 0x148814790>"
      ]
     },
     "execution_count": 11,
     "metadata": {},
     "output_type": "execute_result"
    }
   ],
   "source": [
    "model.compile(optimizer='adam', loss='categorical_crossentropy', metrics=['accuracy'])\n",
    "model.summary()\n",
    "model.fit(X_train,Y_train,batch_size=32, epochs=5, verbose=1, validation_split=0.01)"
   ]
  },
  {
   "cell_type": "code",
   "execution_count": 9,
   "metadata": {},
   "outputs": [
    {
     "name": "stderr",
     "output_type": "stream",
     "text": [
      "W0819 13:54:01.041172 4712633792 deprecation_wrapper.py:119] From /Users/minsiklee/.nbimgclass/lib/python3.6/site-packages/keras/backend/tensorflow_backend.py:2741: The name tf.Session is deprecated. Please use tf.compat.v1.Session instead.\n",
      "\n",
      "W0819 13:54:01.050906 4712633792 deprecation_wrapper.py:119] From /Users/minsiklee/.nbimgclass/lib/python3.6/site-packages/keras/backend/tensorflow_backend.py:174: The name tf.get_default_session is deprecated. Please use tf.compat.v1.get_default_session instead.\n",
      "\n"
     ]
    },
    {
     "name": "stdout",
     "output_type": "stream",
     "text": [
      "1000/1000 [==============================] - 0s 140us/step\n"
     ]
    }
   ],
   "source": [
    "preds = model.predict(X_train[-1000:], verbose=1)"
   ]
  },
  {
   "cell_type": "code",
   "execution_count": 10,
   "metadata": {},
   "outputs": [
    {
     "name": "stderr",
     "output_type": "stream",
     "text": [
      "W0819 13:54:07.652687 4712633792 image.py:700] Clipping input data to the valid range for imshow with RGB data ([0..1] for floats or [0..255] for integers).\n"
     ]
    },
    {
     "data": {
      "image/png": "[encoded data removed]",
      "text/plain": [
       "<Figure size 432x288 with 2 Axes>"
      ]
     },
     "metadata": {
      "needs_background": "light"
     },
     "output_type": "display_data"
    },
    {
     "name": "stdout",
     "output_type": "stream",
     "text": [
      "Prediction:\n",
      "2.5% probability barren land,\n",
      "8.8% probability trees,\n",
      "84.5% probability grassland,\n",
      "4.1% probability other\n",
      "\n",
      "Ground Truth: Barren Land\n"
     ]
    }
   ],
   "source": [
    "ix = 8 #Type a number between 0 and 999 inclusive\n",
    "imshow(np.squeeze(X_train_img[99999-(1000-ix),:,:,0:3]).astype(float)*255) #Only seeing the RGB channels\n",
    "plt.show()\n",
    "#Tells what the image is\n",
    "print ('Prediction:\\n{:.1f}% probability barren land,\\n{:.1f}% probability trees,\\n{:.1f}% probability grassland,\\n{:.1f}% probability other\\n'.format(preds[ix,0]*100,preds[ix,1]*100,preds[ix,2]*100,preds[ix,3]*100))\n",
    "\n",
    "print ('Ground Truth: ',end='')\n",
    "if Y_train[99999-(1000-ix),0] == 1:\n",
    "    print ('Barren Land')\n",
    "elif Y_train[99999-(1000-ix),1] == 1:\n",
    "    print ('Trees')\n",
    "elif Y_train[99999-(1000-ix),2] == 1:\n",
    "    print ('Grassland')\n",
    "else:\n",
    "    print ('Other')"
   ]
  },
  {
   "cell_type": "code",
   "execution_count": null,
   "metadata": {},
   "outputs": [],
   "source": []
  }
 ],
 "metadata": {
  "kernelspec": {
   "display_name": "Python 3",
   "language": "python",
   "name": "python3"
  },
  "language_info": {
   "codemirror_mode": {
    "name": "ipython",
    "version": 3
   },
   "file_extension": ".py",
   "mimetype": "text/x-python",
   "name": "python",
   "nbconvert_exporter": "python",
   "pygments_lexer": "ipython3",
   "version": "3.6.5"
  }
 },
 "nbformat": 4,
 "nbformat_minor": 2
}
